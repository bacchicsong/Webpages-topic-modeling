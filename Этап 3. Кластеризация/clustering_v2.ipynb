{
  "nbformat": 4,
  "nbformat_minor": 0,
  "metadata": {
    "colab": {
      "provenance": [],
      "gpuType": "V28"
    },
    "kernelspec": {
      "name": "python3",
      "display_name": "Python 3"
    },
    "language_info": {
      "name": "python"
    },
    "accelerator": "TPU"
  },
  "cells": [
    {
      "cell_type": "code",
      "execution_count": null,
      "metadata": {
        "id": "kVBxbSNUVk3X",
        "colab": {
          "base_uri": "https://localhost:8080/"
        },
        "outputId": "9af07538-0eef-4f8d-86f4-c3ad42302ecc"
      },
      "outputs": [
        {
          "output_type": "stream",
          "name": "stdout",
          "text": [
            "Collecting wordcloud\n",
            "  Downloading wordcloud-1.9.3-cp310-cp310-manylinux_2_17_x86_64.manylinux2014_x86_64.whl (511 kB)\n",
            "\u001b[2K     \u001b[90m━━━━━━━━━━━━━━━━━━━━━━━━━━━━━━━━━━━━━━━━\u001b[0m \u001b[32m511.1/511.1 kB\u001b[0m \u001b[31m3.3 MB/s\u001b[0m eta \u001b[36m0:00:00\u001b[0m\n",
            "\u001b[?25hRequirement already satisfied: numpy>=1.6.1 in /usr/local/lib/python3.10/dist-packages (from wordcloud) (1.25.2)\n",
            "Requirement already satisfied: pillow in /usr/local/lib/python3.10/dist-packages (from wordcloud) (10.3.0)\n",
            "Requirement already satisfied: matplotlib in /usr/local/lib/python3.10/dist-packages (from wordcloud) (3.7.1)\n",
            "Requirement already satisfied: contourpy>=1.0.1 in /usr/local/lib/python3.10/dist-packages (from matplotlib->wordcloud) (1.2.1)\n",
            "Requirement already satisfied: cycler>=0.10 in /usr/local/lib/python3.10/dist-packages (from matplotlib->wordcloud) (0.12.1)\n",
            "Requirement already satisfied: fonttools>=4.22.0 in /usr/local/lib/python3.10/dist-packages (from matplotlib->wordcloud) (4.51.0)\n",
            "Requirement already satisfied: kiwisolver>=1.0.1 in /usr/local/lib/python3.10/dist-packages (from matplotlib->wordcloud) (1.4.5)\n",
            "Requirement already satisfied: packaging>=20.0 in /usr/local/lib/python3.10/dist-packages (from matplotlib->wordcloud) (24.0)\n",
            "Requirement already satisfied: pyparsing>=2.3.1 in /usr/local/lib/python3.10/dist-packages (from matplotlib->wordcloud) (3.1.2)\n",
            "Requirement already satisfied: python-dateutil>=2.7 in /usr/local/lib/python3.10/dist-packages (from matplotlib->wordcloud) (2.9.0.post0)\n",
            "Requirement already satisfied: six>=1.5 in /usr/local/lib/python3.10/dist-packages (from python-dateutil>=2.7->matplotlib->wordcloud) (1.16.0)\n",
            "Installing collected packages: wordcloud\n",
            "Successfully installed wordcloud-1.9.3\n"
          ]
        }
      ],
      "source": [
        "pip install wordcloud"
      ]
    },
    {
      "cell_type": "code",
      "source": [
        "import pandas as pd\n",
        "import numpy as np\n",
        "from sklearn.cluster import KMeans\n",
        "from tqdm import tqdm\n",
        "\n",
        "from wordcloud import WordCloud"
      ],
      "metadata": {
        "id": "_X9OzZYOEtSc"
      },
      "execution_count": null,
      "outputs": []
    },
    {
      "cell_type": "code",
      "source": [
        "def draw_wordcloud(texts, max_words=1000, width=1000, height=500):\n",
        "    \"\"\"\n",
        "    Создание облаков слов\n",
        "    \"\"\"\n",
        "    wordcloud = WordCloud(background_color='white', max_words=50,\n",
        "                          width=width, height=height)\n",
        "\n",
        "    #joint_texts = ' '.join(list(texts))\n",
        "    joint_texts = ' '.join([str(text) for text in texts])\n",
        "    wordcloud.generate(joint_texts)\n",
        "    return wordcloud.to_image()"
      ],
      "metadata": {
        "id": "VExJSxn1VlvP"
      },
      "execution_count": null,
      "outputs": []
    },
    {
      "cell_type": "code",
      "source": [
        "from google.colab import drive # Подключение к диску с данными\n",
        "drive.mount('/content/drive')"
      ],
      "metadata": {
        "colab": {
          "base_uri": "https://localhost:8080/"
        },
        "id": "_n_NAN31CYdQ",
        "outputId": "f176f2c1-78b2-4aeb-e13e-68465203ae26"
      },
      "execution_count": null,
      "outputs": [
        {
          "output_type": "stream",
          "name": "stdout",
          "text": [
            "Mounted at /content/drive\n"
          ]
        }
      ]
    },
    {
      "cell_type": "code",
      "source": [
        "text_files = [\n",
        "    '/content/drive/MyDrive/Парсинг ИПС_1/text_0_300.csv',\n",
        "    '/content/drive/MyDrive/Парсинг ИПС_1/text_1500_1800.csv',\n",
        "    '/content/drive/MyDrive/Парсинг ИПС_1/text_2400_2450.csv',\n",
        "    '/content/drive/MyDrive/Парсинг ИПС_1/text_3300_3600.csv',\n",
        "    '/content/drive/MyDrive/Парсинг ИПС_1/text_3750_3800.csv',\n",
        "    '/content/drive/MyDrive/Парсинг ИПС_1/text_4200_4500.csv',\n",
        "    '/content/drive/MyDrive/Парсинг ИПС_3/text_4500_4800.csv',\n",
        "    '/content/drive/MyDrive/Парсинг ИПС_4/text_4800_5100.csv',\n",
        "    '/content/drive/MyDrive/Парсинг ИПС_5/text_5100_5400.csv',\n",
        "    '/content/drive/MyDrive/Парсинг ИПС_2/text_1250_1300.csv',\n",
        "    '/content/drive/MyDrive/Парсинг ИПС_2/text_1300_1350.csv',\n",
        "    '/content/drive/MyDrive/Парсинг ИПС_2/text_1350_1400.csv',\n",
        "    '/content/drive/MyDrive/Парсинг ИПС_2/text_1400_1450.csv',\n",
        "    '/content/drive/MyDrive/Парсинг ИПС_2/text_1450_1500.csv',\n",
        "    '/content/drive/MyDrive/Парсинг ИПС_2/text_1800_2100.csv',\n",
        "    '/content/drive/MyDrive/Парсинг ИПС_2/text_3000_3300.csv',\n",
        "    '/content/drive/MyDrive/Парсинг ИПС_2/text_300_600.csv',\n",
        "    '/content/drive/MyDrive/Парсинг ИПС_3/text_3600_3650.csv',\n",
        "    '/content/drive/MyDrive/Парсинг ИПС_3/text_3650_3700.csv',\n",
        "    '/content/drive/MyDrive/Парсинг ИПС_3/text_3700_3750.csv',\n",
        "    '/content/drive/MyDrive/Парсинг ИПС_3/text_3800_3850.csv',\n",
        "    '/content/drive/MyDrive/Парсинг ИПС_3/text_3900_4200.csv',\n",
        "    '/content/drive/MyDrive/Парсинг ИПС_3/text_5400_5700.csv',\n",
        "    '/content/drive/MyDrive/Парсинг ИПС_3/text_600_900.csv',\n",
        "    '/content/drive/MyDrive/Парсинг ИПС_4/text_1250_1300.csv',\n",
        "    '/content/drive/MyDrive/Парсинг ИПС_4/text_2100_2400.csv',\n",
        "    '/content/drive/MyDrive/Парсинг ИПС_4/text_2650_2700.csv',\n",
        "    '/content/drive/MyDrive/Парсинг ИПС_4/text_5700_6000.csv',\n",
        "    '/content/drive/MyDrive/Парсинг ИПС_4/text_900_1200.csv',\n",
        "    '/content/drive/MyDrive/Парсинг ИПС_5/text_2450_2500.csv',\n",
        "    '/content/drive/MyDrive/Парсинг ИПС_5/text_2500_2550.csv',\n",
        "    '/content/drive/MyDrive/Парсинг ИПС_5/text_2550_2600.csv',\n",
        "    '/content/drive/MyDrive/Парсинг ИПС_5/text_2600_2650.csv',\n",
        "    '/content/drive/MyDrive/Парсинг ИПС_5/text_2700_3000.csv',\n",
        "    '/content/drive/MyDrive/Парсинг ИПС_5/text_3850_3900.csv',\n",
        "    '/content/drive/MyDrive/Парсинг ИПС_5/text_6000_6325319.csv',\n",
        "    '/content/drive/MyDrive/Парсинг ИПС_5/text_6325319_.csv'\n",
        "\n",
        "]\n",
        "\n",
        "embed_files = [\n",
        "    '/content/drive/MyDrive/Парсинг ИПС_1/embed_0_300.npy',\n",
        "    '/content/drive/MyDrive/Парсинг ИПС_1/embed_1500_1800.npy',\n",
        "    '/content/drive/MyDrive/Парсинг ИПС_1/embed_2400_2450.npy',\n",
        "    '/content/drive/MyDrive/Парсинг ИПС_1/embed_3300_3600.npy',\n",
        "    '/content/drive/MyDrive/Парсинг ИПС_1/embed_3750_3800.npy',\n",
        "    '/content/drive/MyDrive/Парсинг ИПС_1/embed_4200_4500.npy',\n",
        "    '/content/drive/MyDrive/Парсинг ИПС_3/embed_4500_4800.npy',\n",
        "    '/content/drive/MyDrive/Парсинг ИПС_4/embed_4800_5100.npy',\n",
        "    '/content/drive/MyDrive/Парсинг ИПС_5/embed_5100_5400.npy',\n",
        "    '/content/drive/MyDrive/Парсинг ИПС_2/embed_1250_1300.npy',\n",
        "    '/content/drive/MyDrive/Парсинг ИПС_2/embed_1300_1350.npy',\n",
        "    '/content/drive/MyDrive/Парсинг ИПС_2/embed_1350_1400.npy',\n",
        "    '/content/drive/MyDrive/Парсинг ИПС_2/embed_1400_1450.npy',\n",
        "    '/content/drive/MyDrive/Парсинг ИПС_2/embed_1450_1500.npy',\n",
        "    '/content/drive/MyDrive/Парсинг ИПС_2/embed_1800_2100.npy',\n",
        "    '/content/drive/MyDrive/Парсинг ИПС_2/embed_3000_3300.npy',\n",
        "    '/content/drive/MyDrive/Парсинг ИПС_2/embed_300_600.npy',\n",
        "    '/content/drive/MyDrive/Парсинг ИПС_3/embed_3600_3650.npy',\n",
        "    '/content/drive/MyDrive/Парсинг ИПС_3/embed_3650_3700.npy',\n",
        "    '/content/drive/MyDrive/Парсинг ИПС_3/embed_3700_3750.npy',\n",
        "    '/content/drive/MyDrive/Парсинг ИПС_3/embed_3800_3850.npy',\n",
        "    '/content/drive/MyDrive/Парсинг ИПС_3/embed_3900_4200.npy',\n",
        "    '/content/drive/MyDrive/Парсинг ИПС_3/embed_5400_5700.npy',\n",
        "    '/content/drive/MyDrive/Парсинг ИПС_3/embed_600_900.npy',\n",
        "    '/content/drive/MyDrive/Парсинг ИПС_4/embed_1250_1300.npy',\n",
        "    '/content/drive/MyDrive/Парсинг ИПС_4/embed_2100_2400.npy',\n",
        "    '/content/drive/MyDrive/Парсинг ИПС_4/embed_2650_2700.npy',\n",
        "    '/content/drive/MyDrive/Парсинг ИПС_4/embed_5700_6000.npy',\n",
        "    '/content/drive/MyDrive/Парсинг ИПС_4/embed_900_1200.npy',\n",
        "    '/content/drive/MyDrive/Парсинг ИПС_5/embed_2450_2500.npy',\n",
        "    '/content/drive/MyDrive/Парсинг ИПС_5/embed_2500_2550.npy',\n",
        "    '/content/drive/MyDrive/Парсинг ИПС_5/embed_2550_2600.npy',\n",
        "    '/content/drive/MyDrive/Парсинг ИПС_5/embed_2600_2650.npy',\n",
        "    '/content/drive/MyDrive/Парсинг ИПС_5/embed_2700_3000.npy',\n",
        "    '/content/drive/MyDrive/Парсинг ИПС_5/embed_3850_3900.npy',\n",
        "    '/content/drive/MyDrive/Парсинг ИПС_5/embed_6000_6325319.npy',\n",
        "    '/content/drive/MyDrive/Парсинг ИПС_5/embed_6325319_.npy'\n",
        "\n",
        "]"
      ],
      "metadata": {
        "id": "odduK9_8C1wa"
      },
      "execution_count": null,
      "outputs": []
    },
    {
      "cell_type": "code",
      "source": [
        "df = pd.read_csv(text_files[0])\n",
        "lst = np.load(embed_files[0])\n",
        "for embed_name, text_name in tqdm(zip(embed_files[1:], text_files[1:])):\n",
        "  df = pd.concat([df, pd.read_csv(text_name)])\n",
        "  lst = np.concatenate([lst, np.load(embed_name)])"
      ],
      "metadata": {
        "colab": {
          "base_uri": "https://localhost:8080/"
        },
        "id": "5b40euyIC_2X",
        "outputId": "6320d2c1-d5f3-48c9-903b-97f4e74c5305"
      },
      "execution_count": null,
      "outputs": [
        {
          "output_type": "stream",
          "name": "stderr",
          "text": [
            "36it [11:23, 18.99s/it]\n"
          ]
        }
      ]
    },
    {
      "cell_type": "code",
      "source": [
        "from sklearn.preprocessing import StandardScaler"
      ],
      "metadata": {
        "id": "-C1_l5nQzA0O"
      },
      "execution_count": null,
      "outputs": []
    },
    {
      "cell_type": "code",
      "source": [
        "scaler = StandardScaler()"
      ],
      "metadata": {
        "id": "JJzJzJkKzjql"
      },
      "execution_count": null,
      "outputs": []
    },
    {
      "cell_type": "code",
      "source": [
        "lst_scaled = scaler.fit_transform(lst) # Скейлинг"
      ],
      "metadata": {
        "id": "f2qIKx3UzA2S"
      },
      "execution_count": null,
      "outputs": []
    },
    {
      "cell_type": "code",
      "source": [
        "from sklearn.decomposition import PCA"
      ],
      "metadata": {
        "id": "-NtwfNmkzA9G"
      },
      "execution_count": null,
      "outputs": []
    },
    {
      "cell_type": "code",
      "source": [
        "reducer = PCA(n_components=30, random_state = 42)"
      ],
      "metadata": {
        "id": "32wsmartzBBg"
      },
      "execution_count": null,
      "outputs": []
    },
    {
      "cell_type": "code",
      "source": [
        "lst_scaled = reducer.fit_transform(lst_scaled) # Понижение размерности"
      ],
      "metadata": {
        "id": "NtSP80rGzBDd"
      },
      "execution_count": null,
      "outputs": []
    },
    {
      "cell_type": "code",
      "source": [
        "def clustering(table, list_, n_clust): # Кластеризация\n",
        "  km = KMeans(n_clusters=n_clust, random_state=42)\n",
        "  labels = km.fit_predict(list_)\n",
        "  table['label'] = labels\n",
        "  return(table)"
      ],
      "metadata": {
        "id": "dcfKRJXuzBFn"
      },
      "execution_count": null,
      "outputs": []
    },
    {
      "cell_type": "code",
      "source": [
        "def display_wordcloud(table, range_): # Отображение облаков слов\n",
        "  for i in range_:\n",
        "    print(f'Label: {i}')\n",
        "    display(draw_wordcloud(table[table.label == i]['text']))\n",
        "    print()"
      ],
      "metadata": {
        "id": "Ya_CnR3VFcJQ"
      },
      "execution_count": null,
      "outputs": []
    },
    {
      "cell_type": "markdown",
      "source": [
        "# Кластеризация по всему датафрейму"
      ],
      "metadata": {
        "id": "yfgYfKsSQYrP"
      }
    },
    {
      "cell_type": "code",
      "source": [
        "df_all = clustering(df, lst_scaled, 100)"
      ],
      "metadata": {
        "colab": {
          "base_uri": "https://localhost:8080/"
        },
        "id": "etzP1SwstJLH",
        "outputId": "14b45e77-6c23-4c12-8231-9a5c6ec3ac5e"
      },
      "execution_count": null,
      "outputs": [
        {
          "metadata": {
            "tags": null
          },
          "name": "stderr",
          "output_type": "stream",
          "text": [
            "/usr/local/lib/python3.10/dist-packages/sklearn/cluster/_kmeans.py:870: FutureWarning: The default value of `n_init` will change from 10 to 'auto' in 1.4. Set the value of `n_init` explicitly to suppress the warning\n",
            "  warnings.warn(\n"
          ]
        }
      ]
    },
    {
      "cell_type": "code",
      "source": [
        "display_wordcloud(df_all, range(50, 100))"
      ],
      "metadata": {
        "id": "ZuXzcjfCGKP6"
      },
      "execution_count": null,
      "outputs": []
    },
    {
      "cell_type": "code",
      "source": [],
      "metadata": {
        "id": "oKxPQURGzKoZ"
      },
      "execution_count": null,
      "outputs": []
    }
  ]
}