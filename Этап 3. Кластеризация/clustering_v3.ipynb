{
  "nbformat": 4,
  "nbformat_minor": 0,
  "metadata": {
    "colab": {
      "provenance": []
    },
    "kernelspec": {
      "name": "python3",
      "display_name": "Python 3"
    },
    "language_info": {
      "name": "python"
    }
  },
  "cells": [
    {
      "cell_type": "code",
      "execution_count": null,
      "metadata": {
        "id": "kVBxbSNUVk3X"
      },
      "outputs": [],
      "source": [
        "pip install wordcloud"
      ]
    },
    {
      "cell_type": "code",
      "source": [
        "import pandas as pd\n",
        "import numpy as np\n",
        "from sklearn.cluster import KMeans\n",
        "from tqdm import tqdm\n",
        "\n",
        "from wordcloud import WordCloud"
      ],
      "metadata": {
        "id": "_X9OzZYOEtSc"
      },
      "execution_count": null,
      "outputs": []
    },
    {
      "cell_type": "code",
      "source": [
        "def draw_wordcloud(texts, max_words=1000, width=1000, height=500):\n",
        "    \"\"\"\n",
        "    Создание облаков слов\n",
        "    \"\"\"\n",
        "\n",
        "    try:\n",
        "      wordcloud = WordCloud(background_color='white', max_words=50,\n",
        "                            width=width, height=height)\n",
        "\n",
        "      #joint_texts = ' '.join(list(texts))\n",
        "      joint_texts = ' '.join([str(text) for text in texts])\n",
        "      wordcloud.generate(joint_texts)\n",
        "      return wordcloud.to_image()\n",
        "    except:\n",
        "      print('Облако построить не удалось. Возможно, отсутствуют слова для этого. Стоит посмотреть сам датафрейм')"
      ],
      "metadata": {
        "id": "VExJSxn1VlvP"
      },
      "execution_count": null,
      "outputs": []
    },
    {
      "cell_type": "code",
      "source": [
        "from google.colab import drive # Подключение к диску с данными\n",
        "drive.mount('/content/drive')"
      ],
      "metadata": {
        "colab": {
          "base_uri": "https://localhost:8080/"
        },
        "id": "_n_NAN31CYdQ",
        "outputId": "9159c252-478d-4f77-e9e3-4a3596737d7d"
      },
      "execution_count": null,
      "outputs": [
        {
          "output_type": "stream",
          "name": "stdout",
          "text": [
            "Mounted at /content/drive\n"
          ]
        }
      ]
    },
    {
      "cell_type": "code",
      "source": [
        "text_files = [\n",
        "    '/content/drive/MyDrive/Парсинг ИПС_1/text_0_300.csv',\n",
        "    '/content/drive/MyDrive/Парсинг ИПС_1/text_1500_1800.csv',\n",
        "    '/content/drive/MyDrive/Парсинг ИПС_1/text_2400_2450.csv',\n",
        "    '/content/drive/MyDrive/Парсинг ИПС_1/text_3300_3600.csv',\n",
        "    '/content/drive/MyDrive/Парсинг ИПС_1/text_3750_3800.csv',\n",
        "    '/content/drive/MyDrive/Парсинг ИПС_1/text_4200_4500.csv',\n",
        "    '/content/drive/MyDrive/Парсинг ИПС_3/text_4500_4800.csv',\n",
        "    '/content/drive/MyDrive/Парсинг ИПС_4/text_4800_5100.csv',\n",
        "    '/content/drive/MyDrive/Парсинг ИПС_5/text_5100_5400.csv',\n",
        "    '/content/drive/MyDrive/Парсинг ИПС_2/text_1250_1300.csv',\n",
        "    '/content/drive/MyDrive/Парсинг ИПС_2/text_1300_1350.csv',\n",
        "    '/content/drive/MyDrive/Парсинг ИПС_2/text_1350_1400.csv',\n",
        "    '/content/drive/MyDrive/Парсинг ИПС_2/text_1400_1450.csv',\n",
        "    '/content/drive/MyDrive/Парсинг ИПС_2/text_1450_1500.csv',\n",
        "    '/content/drive/MyDrive/Парсинг ИПС_2/text_1800_2100.csv',\n",
        "    '/content/drive/MyDrive/Парсинг ИПС_2/text_3000_3300.csv',\n",
        "    '/content/drive/MyDrive/Парсинг ИПС_2/text_300_600.csv',\n",
        "    '/content/drive/MyDrive/Парсинг ИПС_3/text_3600_3650.csv',\n",
        "    '/content/drive/MyDrive/Парсинг ИПС_3/text_3650_3700.csv',\n",
        "    '/content/drive/MyDrive/Парсинг ИПС_3/text_3700_3750.csv',\n",
        "    '/content/drive/MyDrive/Парсинг ИПС_3/text_3800_3850.csv',\n",
        "    '/content/drive/MyDrive/Парсинг ИПС_3/text_3900_4200.csv',\n",
        "    '/content/drive/MyDrive/Парсинг ИПС_3/text_5400_5700.csv',\n",
        "    '/content/drive/MyDrive/Парсинг ИПС_3/text_600_900.csv',\n",
        "    '/content/drive/MyDrive/Парсинг ИПС_4/text_1250_1300.csv',\n",
        "    '/content/drive/MyDrive/Парсинг ИПС_4/text_2100_2400.csv',\n",
        "    '/content/drive/MyDrive/Парсинг ИПС_4/text_2650_2700.csv',\n",
        "    '/content/drive/MyDrive/Парсинг ИПС_4/text_5700_6000.csv',\n",
        "    '/content/drive/MyDrive/Парсинг ИПС_4/text_900_1200.csv',\n",
        "    '/content/drive/MyDrive/Парсинг ИПС_5/text_2450_2500.csv',\n",
        "    '/content/drive/MyDrive/Парсинг ИПС_5/text_2500_2550.csv',\n",
        "    '/content/drive/MyDrive/Парсинг ИПС_5/text_2550_2600.csv',\n",
        "    '/content/drive/MyDrive/Парсинг ИПС_5/text_2600_2650.csv',\n",
        "    '/content/drive/MyDrive/Парсинг ИПС_5/text_2700_3000.csv',\n",
        "    '/content/drive/MyDrive/Парсинг ИПС_5/text_3850_3900.csv',\n",
        "    '/content/drive/MyDrive/Парсинг ИПС_5/text_6000_6325319.csv',\n",
        "    '/content/drive/MyDrive/Парсинг ИПС_5/text_6325319_.csv'\n",
        "\n",
        "]\n",
        "\n",
        "embed_files = [\n",
        "    '/content/drive/MyDrive/Парсинг ИПС_1/embed_0_300.npy',\n",
        "    '/content/drive/MyDrive/Парсинг ИПС_1/embed_1500_1800.npy',\n",
        "    '/content/drive/MyDrive/Парсинг ИПС_1/embed_2400_2450.npy',\n",
        "    '/content/drive/MyDrive/Парсинг ИПС_1/embed_3300_3600.npy',\n",
        "    '/content/drive/MyDrive/Парсинг ИПС_1/embed_3750_3800.npy',\n",
        "    '/content/drive/MyDrive/Парсинг ИПС_1/embed_4200_4500.npy',\n",
        "    '/content/drive/MyDrive/Парсинг ИПС_3/embed_4500_4800.npy',\n",
        "    '/content/drive/MyDrive/Парсинг ИПС_4/embed_4800_5100.npy',\n",
        "    '/content/drive/MyDrive/Парсинг ИПС_5/embed_5100_5400.npy',\n",
        "    '/content/drive/MyDrive/Парсинг ИПС_2/embed_1250_1300.npy',\n",
        "    '/content/drive/MyDrive/Парсинг ИПС_2/embed_1300_1350.npy',\n",
        "    '/content/drive/MyDrive/Парсинг ИПС_2/embed_1350_1400.npy',\n",
        "    '/content/drive/MyDrive/Парсинг ИПС_2/embed_1400_1450.npy',\n",
        "    '/content/drive/MyDrive/Парсинг ИПС_2/embed_1450_1500.npy',\n",
        "    '/content/drive/MyDrive/Парсинг ИПС_2/embed_1800_2100.npy',\n",
        "    '/content/drive/MyDrive/Парсинг ИПС_2/embed_3000_3300.npy',\n",
        "    '/content/drive/MyDrive/Парсинг ИПС_2/embed_300_600.npy',\n",
        "    '/content/drive/MyDrive/Парсинг ИПС_3/embed_3600_3650.npy',\n",
        "    '/content/drive/MyDrive/Парсинг ИПС_3/embed_3650_3700.npy',\n",
        "    '/content/drive/MyDrive/Парсинг ИПС_3/embed_3700_3750.npy',\n",
        "    '/content/drive/MyDrive/Парсинг ИПС_3/embed_3800_3850.npy',\n",
        "    '/content/drive/MyDrive/Парсинг ИПС_3/embed_3900_4200.npy',\n",
        "    '/content/drive/MyDrive/Парсинг ИПС_3/embed_5400_5700.npy',\n",
        "    '/content/drive/MyDrive/Парсинг ИПС_3/embed_600_900.npy',\n",
        "    '/content/drive/MyDrive/Парсинг ИПС_4/embed_1250_1300.npy',\n",
        "    '/content/drive/MyDrive/Парсинг ИПС_4/embed_2100_2400.npy',\n",
        "    '/content/drive/MyDrive/Парсинг ИПС_4/embed_2650_2700.npy',\n",
        "    '/content/drive/MyDrive/Парсинг ИПС_4/embed_5700_6000.npy',\n",
        "    '/content/drive/MyDrive/Парсинг ИПС_4/embed_900_1200.npy',\n",
        "    '/content/drive/MyDrive/Парсинг ИПС_5/embed_2450_2500.npy',\n",
        "    '/content/drive/MyDrive/Парсинг ИПС_5/embed_2500_2550.npy',\n",
        "    '/content/drive/MyDrive/Парсинг ИПС_5/embed_2550_2600.npy',\n",
        "    '/content/drive/MyDrive/Парсинг ИПС_5/embed_2600_2650.npy',\n",
        "    '/content/drive/MyDrive/Парсинг ИПС_5/embed_2700_3000.npy',\n",
        "    '/content/drive/MyDrive/Парсинг ИПС_5/embed_3850_3900.npy',\n",
        "    '/content/drive/MyDrive/Парсинг ИПС_5/embed_6000_6325319.npy',\n",
        "    '/content/drive/MyDrive/Парсинг ИПС_5/embed_6325319_.npy'\n",
        "\n",
        "]"
      ],
      "metadata": {
        "id": "odduK9_8C1wa"
      },
      "execution_count": null,
      "outputs": []
    },
    {
      "cell_type": "code",
      "source": [
        "df = pd.read_csv(text_files[0])\n",
        "lst = np.load(embed_files[0])\n",
        "for embed_name, text_name in tqdm(zip(embed_files[1:], text_files[1:])):\n",
        "  df = pd.concat([df, pd.read_csv(text_name)])\n",
        "  lst = np.concatenate([lst, np.load(embed_name)])"
      ],
      "metadata": {
        "colab": {
          "base_uri": "https://localhost:8080/"
        },
        "id": "5b40euyIC_2X",
        "outputId": "898fa4bf-b739-4f8d-b895-92bcd11ac175"
      },
      "execution_count": null,
      "outputs": [
        {
          "output_type": "stream",
          "name": "stderr",
          "text": [
            "36it [12:02, 20.08s/it]\n"
          ]
        }
      ]
    },
    {
      "cell_type": "code",
      "source": [
        "df.index = np.arange(0, len(df))"
      ],
      "metadata": {
        "id": "2zp5j-BxysRw"
      },
      "execution_count": null,
      "outputs": []
    },
    {
      "cell_type": "code",
      "source": [
        "from sklearn.preprocessing import StandardScaler"
      ],
      "metadata": {
        "id": "-C1_l5nQzA0O"
      },
      "execution_count": null,
      "outputs": []
    },
    {
      "cell_type": "code",
      "source": [
        "scaler = StandardScaler()"
      ],
      "metadata": {
        "id": "JJzJzJkKzjql"
      },
      "execution_count": null,
      "outputs": []
    },
    {
      "cell_type": "code",
      "source": [
        "lst_scaled = scaler.fit_transform(lst) # Скейлинг"
      ],
      "metadata": {
        "id": "f2qIKx3UzA2S"
      },
      "execution_count": null,
      "outputs": []
    },
    {
      "cell_type": "code",
      "source": [
        "from sklearn.decomposition import PCA"
      ],
      "metadata": {
        "id": "-NtwfNmkzA9G"
      },
      "execution_count": null,
      "outputs": []
    },
    {
      "cell_type": "code",
      "source": [
        "reducer = PCA(n_components=30, random_state = 42)"
      ],
      "metadata": {
        "id": "32wsmartzBBg"
      },
      "execution_count": null,
      "outputs": []
    },
    {
      "cell_type": "code",
      "source": [
        "lst_scaled = reducer.fit_transform(lst_scaled) # Понижение размерности"
      ],
      "metadata": {
        "id": "NtSP80rGzBDd"
      },
      "execution_count": null,
      "outputs": []
    },
    {
      "cell_type": "code",
      "source": [
        "def clustering(table, list_, n_clust): # Кластеризация\n",
        "  km = KMeans(n_clusters=n_clust, random_state=42)\n",
        "  labels = km.fit_predict(list_)\n",
        "  table['label'] = labels\n",
        "  return(table)"
      ],
      "metadata": {
        "id": "dcfKRJXuzBFn"
      },
      "execution_count": null,
      "outputs": []
    },
    {
      "cell_type": "code",
      "source": [
        "def display_wordcloud(table, range_): # Отображение облаков слов\n",
        "  for i in range_:\n",
        "    print(f'Label: {i}')\n",
        "    display(draw_wordcloud(table[table.label == i]['text']))\n",
        "    print()"
      ],
      "metadata": {
        "id": "Ya_CnR3VFcJQ"
      },
      "execution_count": null,
      "outputs": []
    },
    {
      "cell_type": "code",
      "source": [
        "def topics(indexes, topic, file_name):\n",
        "  topics = [topic] * len(indexes)\n",
        "  arr = np.array(list(zip(indexes, topics)))\n",
        "  np.save(file_name, arr)"
      ],
      "metadata": {
        "id": "tih0q77HzfNy"
      },
      "execution_count": null,
      "outputs": []
    },
    {
      "cell_type": "code",
      "source": [
        "def print_frac(df, label):\n",
        "  for i in range(len(df[df.label == label].sample(frac = 0.5)['text'])):\n",
        "    print(df[df.label == label].sample(frac = 0.5)['text'].iloc[i][:1000])\n",
        "    print('\\n')"
      ],
      "metadata": {
        "id": "MDdVqzCbYZjr"
      },
      "execution_count": null,
      "outputs": []
    },
    {
      "cell_type": "markdown",
      "source": [
        "# Кластеризация по всему датафрейму"
      ],
      "metadata": {
        "id": "yfgYfKsSQYrP"
      }
    },
    {
      "cell_type": "code",
      "source": [
        "df_all = clustering(df, lst_scaled, 100)"
      ],
      "metadata": {
        "colab": {
          "base_uri": "https://localhost:8080/"
        },
        "id": "etzP1SwstJLH",
        "outputId": "b6872583-247e-4665-94de-e40f7468783a"
      },
      "execution_count": null,
      "outputs": [
        {
          "output_type": "stream",
          "name": "stderr",
          "text": [
            "/usr/local/lib/python3.10/dist-packages/sklearn/cluster/_kmeans.py:870: FutureWarning: The default value of `n_init` will change from 10 to 'auto' in 1.4. Set the value of `n_init` explicitly to suppress the warning\n",
            "  warnings.warn(\n"
          ]
        }
      ]
    },
    {
      "cell_type": "code",
      "source": [
        "display_wordcloud(df_all, range(50, 100))"
      ],
      "metadata": {
        "id": "ZuXzcjfCGKP6"
      },
      "execution_count": null,
      "outputs": []
    },
    {
      "cell_type": "markdown",
      "source": [
        "# Кластеризация на уровень -1 ниже\n",
        "\n",
        "\n",
        "\n",
        "\n"
      ],
      "metadata": {
        "id": "mD7hKDrrWKy0"
      }
    },
    {
      "cell_type": "code",
      "source": [
        "label_min1 = 30\n",
        "lst_min1 = lst_scaled[df_all.label == label_min1]\n",
        "df_min1 = clustering(df_all[df_all.label == label_min1], lst_min1, 20)\n",
        "display_wordcloud(df_min1, range(20))"
      ],
      "metadata": {
        "id": "Pfjj7MicU-_B"
      },
      "execution_count": null,
      "outputs": []
    },
    {
      "cell_type": "code",
      "source": [
        "#print_frac(df_min1, 0)"
      ],
      "metadata": {
        "id": "ee6BLQS-ZpE2"
      },
      "execution_count": null,
      "outputs": []
    },
    {
      "cell_type": "markdown",
      "source": [
        "# Кластеризация на уровень -2 ниже"
      ],
      "metadata": {
        "id": "Ey1eyT3CXRvv"
      }
    },
    {
      "cell_type": "code",
      "source": [
        "label_min2 = 0\n",
        "lst_min2 = lst_min1[df_min1.label == label_min2]\n",
        "df_min2 = clustering(df_min1[df_min1.label == label_min2], lst_min2 , 10)\n",
        "display_wordcloud(df_min2, range(10))"
      ],
      "metadata": {
        "id": "XbIBq0e7VD__"
      },
      "execution_count": null,
      "outputs": []
    },
    {
      "cell_type": "code",
      "source": [
        "#print_frac(df_min2, 1)"
      ],
      "metadata": {
        "id": "mXp5hgaSZoa0"
      },
      "execution_count": null,
      "outputs": []
    },
    {
      "cell_type": "markdown",
      "source": [
        "# Кластеризация на уровень -3 ниже"
      ],
      "metadata": {
        "id": "Y2yRd7J2Rmg-"
      }
    },
    {
      "cell_type": "code",
      "source": [
        "label_min3 = 1\n",
        "lst_min3 = lst_min2[df_min2.label == label_min3]\n",
        "df_min3 = clustering(df_min2[df_min2.label == label_min3], lst_min3 , 10)\n",
        "display_wordcloud(df_min3, range(10))"
      ],
      "metadata": {
        "id": "5jIi5of8VGxM"
      },
      "execution_count": null,
      "outputs": []
    },
    {
      "cell_type": "code",
      "source": [
        "print_frac(df_min3, 9)"
      ],
      "metadata": {
        "id": "6bDjPNkYZnkk"
      },
      "execution_count": null,
      "outputs": []
    },
    {
      "cell_type": "markdown",
      "source": [
        "# Сохранение"
      ],
      "metadata": {
        "id": "aMjmBV9qXUK6"
      }
    },
    {
      "cell_type": "code",
      "source": [
        "topics(df_min3[df_min3.label == 9].index, 'продажа лестниц/стремянок', 'topics_30_1.npy')"
      ],
      "metadata": {
        "id": "ioWnLIWwUnu2"
      },
      "execution_count": null,
      "outputs": []
    },
    {
      "cell_type": "code",
      "source": [],
      "metadata": {
        "id": "3-bpQJ6KblQ7"
      },
      "execution_count": null,
      "outputs": []
    }
  ]
}